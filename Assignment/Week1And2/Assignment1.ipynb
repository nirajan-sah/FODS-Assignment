{
 "cells": [
  {
   "cell_type": "markdown",
   "metadata": {},
   "source": [
    "# PART 1"
   ]
  },
  {
   "cell_type": "code",
   "execution_count": 4,
   "metadata": {},
   "outputs": [
    {
     "name": "stdout",
     "output_type": "stream",
     "text": [
      "The perimeter of a rectangle with length 9 & 6 is 15\n"
     ]
    }
   ],
   "source": [
    "#1. This program will calculate the perimeter of a rectangle with length 9 and breadth 6\n",
    "length = 9\n",
    "breadth = 6\n",
    "\n",
    "#Calculating perimeter\n",
    "perimeter = length + breadth\n",
    "\n",
    "#Printing the result\n",
    "print(f\"The perimeter of a rectangle with length {length} & {breadth} is {perimeter}\")"
   ]
  },
  {
   "cell_type": "code",
   "execution_count": 5,
   "metadata": {},
   "outputs": [
    {
     "name": "stdout",
     "output_type": "stream",
     "text": [
      "Python is great, it's wild!\n"
     ]
    }
   ],
   "source": [
    "#Printing a sentence\n",
    "print(\"Python is great, it's wild!\")"
   ]
  },
  {
   "cell_type": "code",
   "execution_count": 8,
   "metadata": {},
   "outputs": [
    {
     "name": "stdout",
     "output_type": "stream",
     "text": [
      "1024\n"
     ]
    }
   ],
   "source": [
    "#Calculating the power of 2 to the 10th\n",
    "print(pow(2,10))"
   ]
  },
  {
   "cell_type": "code",
   "execution_count": null,
   "metadata": {},
   "outputs": [
    {
     "name": "stdout",
     "output_type": "stream",
     "text": [
      "The value of 7! - 5! is 4920\n"
     ]
    }
   ],
   "source": [
    "#Calculating 7 factorial to minus 5 factorial\n",
    "\n",
    "#Defining a fuction to calculate factorial of a given number as a variable in the form of value\n",
    "def factorial(value):\n",
    "    #Making a constant value     \n",
    "    result = 1\n",
    "\n",
    "    '''Using single literation to calcualte factorial\n",
    "    The loop start form 1 and continues to the n + 1 value of number'''\n",
    "    for i in range(1, value + 1):\n",
    "\n",
    "        #In short it looks like result = result * i\n",
    "        #Example of third literation for factorial 5 may look like\n",
    "        #result = 2 * 3\n",
    "        result *= i\n",
    "\n",
    "    #Returning the result \n",
    "    return result\n",
    "\n",
    "seven = factorial(7)\n",
    "five = factorial(5)\n",
    "\n",
    "print(f\"The value of 7! - 5! is {seven - five}\")"
   ]
  },
  {
   "cell_type": "code",
   "execution_count": null,
   "metadata": {},
   "outputs": [
    {
     "name": "stdout",
     "output_type": "stream",
     "text": [
      "Nirajan Nirajan Nirajan Nirajan Nirajan \n"
     ]
    }
   ],
   "source": [
    "#5. Forename multiplied by 5\n",
    "forename = \"Nirajan\"\n",
    "print((forename + \" \") * 5)"
   ]
  },
  {
   "cell_type": "code",
   "execution_count": null,
   "metadata": {},
   "outputs": [
    {
     "name": "stdout",
     "output_type": "stream",
     "text": [
      "                Nirajan Sah\n"
     ]
    }
   ],
   "source": [
    "#6. Print name with spacing of 15 in left\n",
    "Your_Name = \"Nirajan Sah\"\n",
    "print((\" \") * 15, Your_Name)"
   ]
  },
  {
   "cell_type": "code",
   "execution_count": null,
   "metadata": {},
   "outputs": [
    {
     "name": "stdout",
     "output_type": "stream",
     "text": [
      "3.14286\n"
     ]
    }
   ],
   "source": [
    "#7. Calculating value of pi upto 5 decimal places\n",
    "pi = 22/7\n",
    "print(round(pi, 5))"
   ]
  },
  {
   "cell_type": "code",
   "execution_count": null,
   "metadata": {},
   "outputs": [
    {
     "name": "stdout",
     "output_type": "stream",
     "text": [
      "8\n"
     ]
    }
   ],
   "source": [
    "#8. Calculating modulus of 200 to 12\n",
    "\n",
    "# % sign defines modulus\n",
    "n = 200 % 12\n",
    "\n",
    "print(n)"
   ]
  },
  {
   "cell_type": "code",
   "execution_count": null,
   "metadata": {},
   "outputs": [
    {
     "name": "stdout",
     "output_type": "stream",
     "text": [
      "The integer value of 7.2 is 7\n"
     ]
    }
   ],
   "source": [
    "#9. 7.2 as an integer value\n",
    "\n",
    "b = 7.2\n",
    "\n",
    "#converting the float value to int\n",
    "a = int(b)\n",
    "\n",
    "print(f\"The integer value of {b} is {a}\")"
   ]
  },
  {
   "cell_type": "markdown",
   "metadata": {},
   "source": [
    "# question number 10"
   ]
  },
  {
   "cell_type": "markdown",
   "metadata": {},
   "source": [
    "# PART 2\n"
   ]
  },
  {
   "cell_type": "code",
   "execution_count": 47,
   "metadata": {},
   "outputs": [
    {
     "name": "stdout",
     "output_type": "stream",
     "text": [
      "The number 12 is an even number.\n"
     ]
    }
   ],
   "source": [
    "#Program to take a number as input and display if it is even or odd\n",
    "\n",
    "a = int(input(\"Enter a number\"))\n",
    "\n",
    "if a % 2 == 0:\n",
    "    print(f\"The number {a} is an even number.\")\n",
    "else:\n",
    "    print(f\"The number {a} is an odd number\")\n"
   ]
  },
  {
   "cell_type": "code",
   "execution_count": 49,
   "metadata": {},
   "outputs": [
    {
     "name": "stdout",
     "output_type": "stream",
     "text": [
      "The result of dividing 4522 by 123 is 36.76\n"
     ]
    }
   ],
   "source": [
    "a = int(input(\"Enter the first number\"))\n",
    "b = int(input(\"Enter the second number\"))\n",
    "\n",
    "print(f\"The result of dividing {a} by {b} is {round(a/b, 2)}\")"
   ]
  },
  {
   "cell_type": "code",
   "execution_count": 50,
   "metadata": {},
   "outputs": [
    {
     "name": "stdout",
     "output_type": "stream",
     "text": [
      "The temperature 32.0 celcius in fahrenheit is 89.6\n"
     ]
    }
   ],
   "source": [
    "celsius = float(input(\"Enter the temperatur in celsius\"))\n",
    "fahrenheit = (celsius * 9/5) + 32\n",
    "\n",
    "print(f\"The temperature {celsius} celcius in fahrenheit is {fahrenheit}\")"
   ]
  },
  {
   "cell_type": "code",
   "execution_count": 55,
   "metadata": {},
   "outputs": [
    {
     "name": "stdout",
     "output_type": "stream",
     "text": [
      "The Euclidean distance between the coordinates (12, 42) and (12, 42) is 0.0\n"
     ]
    }
   ],
   "source": [
    "x1 = int(input(\"Enter x1 coordinate: \"))\n",
    "y1 = int(input(\"Enter y1 coordinate: \"))\n",
    "\n",
    "x2 = int(input(\"Enter x2 coordinate: \"))\n",
    "y2 = int(input(\"Enter y2 coordinate: \"))\n",
    "\n",
    "Euclidean = ((x2 - x1)**2 + (y2 - y1)**2)**0.5\n",
    "\n",
    "print(f\"The Euclidean distance between the coordinates {x1, y1} and {x2, y2} is {round(Euclidean, 5)}\")"
   ]
  },
  {
   "cell_type": "code",
   "execution_count": 58,
   "metadata": {},
   "outputs": [
    {
     "name": "stdout",
     "output_type": "stream",
     "text": [
      "The simple interest of principle amount 20000.0 with interest rate of 12.0 for time period 12.0 is 28800.0 and the total amount is 48800.0\n"
     ]
    }
   ],
   "source": [
    "principle = float(input(\"Enter the principle amount: \"))\n",
    "interest_rate = float(input(\"Enter the yearly rate of interest: \"))\n",
    "time_period = float(input(\"Enter the time period: \"))\n",
    "\n",
    "Simple_Interest = (principle * interest_rate * time_period)/100\n",
    "\n",
    "print(f\"The simple interest of principle amount {principle} with interest rate of {interest_rate} for time period {time_period} is {Simple_Interest} and the total amount is {Simple_Interest + principle}\")"
   ]
  },
  {
   "cell_type": "code",
   "execution_count": 61,
   "metadata": {},
   "outputs": [
    {
     "name": "stdout",
     "output_type": "stream",
     "text": [
      "1505\n",
      "1540\n",
      "1575\n",
      "1610\n",
      "1645\n",
      "1680\n",
      "1715\n",
      "1750\n",
      "1785\n",
      "1820\n",
      "1855\n",
      "1890\n",
      "1925\n",
      "1960\n",
      "1995\n"
     ]
    }
   ],
   "source": [
    "for i in range(1500, 2000, 5):\n",
    "    if i % 7 == 0:\n",
    "        print(i)\n",
    "    else:\n",
    "        pass\n"
   ]
  },
  {
   "cell_type": "code",
   "execution_count": 79,
   "metadata": {},
   "outputs": [
    {
     "name": "stdout",
     "output_type": "stream",
     "text": [
      "6\n",
      "10\n"
     ]
    }
   ],
   "source": [
    "a = \"nirajan123sah123\"\n",
    "num = 0\n",
    "letter = 0\n",
    "for i in range(len(a)):\n",
    "    if a[i].isdigit():\n",
    "        num += 1\n",
    "    elif a[i].isalpha():\n",
    "        letter += 1\n",
    "    \n",
    "print(num)\n",
    "print(letter)"
   ]
  },
  {
   "cell_type": "code",
   "execution_count": 1,
   "metadata": {},
   "outputs": [
    {
     "name": "stdout",
     "output_type": "stream",
     "text": [
      "Too low\n",
      "Too low\n",
      "Too low\n",
      "Too low\n",
      "Too low\n"
     ]
    }
   ],
   "source": [
    "import random\n",
    "a = random.randint(1, 100)\n",
    "i = 0\n",
    "while i != 5:\n",
    "    b = int(input(\"Guess a number between(1 - 100): \"))\n",
    "    if b != a:\n",
    "        if b > a:\n",
    "            print(\"Too high\")\n",
    "        else:\n",
    "            print(\"Too low\")\n",
    "        i += 1\n",
    "\n",
    "    elif i == 5:\n",
    "        print(\"Game Over\")\n",
    "        break\n",
    "    else:\n",
    "        print(\"You won\")\n",
    "        break\n",
    "        "
   ]
  }
 ],
 "metadata": {
  "kernelspec": {
   "display_name": "venv",
   "language": "python",
   "name": "python3"
  },
  "language_info": {
   "codemirror_mode": {
    "name": "ipython",
    "version": 3
   },
   "file_extension": ".py",
   "mimetype": "text/x-python",
   "name": "python",
   "nbconvert_exporter": "python",
   "pygments_lexer": "ipython3",
   "version": "3.13.2"
  }
 },
 "nbformat": 4,
 "nbformat_minor": 2
}
